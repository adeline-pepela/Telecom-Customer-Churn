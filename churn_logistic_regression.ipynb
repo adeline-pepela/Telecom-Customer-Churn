{
 "cells": [
  {
   "cell_type": "markdown",
   "id": "945e7cec-46fe-4095-ae8e-e9b9f06abc03",
   "metadata": {},
   "source": [
    "# Data Mining- Term Project \n",
    "\n",
    "## Adeline Makokha\n",
    "### Adm No: 191199"
   ]
  },
  {
   "cell_type": "markdown",
   "id": "804cb0df-4d18-431b-85f9-23b09912b617",
   "metadata": {},
   "source": [
    "### Customer Retention Prediction\n",
    "• Introduction [10 marks]\r\n",
    "o Background [1 paragraph of at least 6 lines]\r\n",
    "o Research Problem [1 paragraph of at least 6 lines]\r\n",
    "o Objectives [At least 3 SMART points]\r\n",
    "o Hypothesis [At least 2 points]\r\n",
    "• Methodology, Results and Discussion\r\n",
    "o Data description [1 paragraph of at least 10 lines with variables described in a table] [10 marks]\r\n",
    "✓ Source of data\r\n",
    "✓ Period collected (year and month/day)\r\n",
    "✓ How it was collected\r\n",
    "✓ Under what conditions was it collected\r\n",
    "o Exploratory data analytics [with visualizations and interpretations; new hind insights] [10\r\n",
    "marks]\r\n",
    "✓ Descriptive analytics\r\n",
    "✓ Diagnostics analytics\r\n",
    "o Data cleaning/pre-treatment for machine learning purpose. [10 marks]\r\n",
    "o Predictive data analytics [with data science and machine learning models; new foresights] [15\r\n",
    "marks]\r\n",
    "• Conclusion [5 marks]"
   ]
  },
  {
   "cell_type": "markdown",
   "id": "c13a74d9-10e2-4311-a720-55b30f904daa",
   "metadata": {},
   "source": [
    "# Telecommunication Customer Churn Analysis"
   ]
  },
  {
   "cell_type": "markdown",
   "id": "206dc075-53df-467b-8ab0-dd9183b6cb52",
   "metadata": {},
   "source": [
    "### Introduction\n"
   ]
  },
  {
   "cell_type": "markdown",
   "id": "5a55ea84-d400-4faf-8a3d-faabab6803d8",
   "metadata": {},
   "source": [
    "### Background\n",
    "The telecommunication industry has seen significant growth over the past few decades, becoming a cornerstone of modern society. With the rise of mobile and internet services, customer retention has become a critical challenge for telecom companies. High customer churn rates not only affect profitability but also reflect customer dissatisfaction. Understanding the factors leading to customer churn and developing strategies to mitigate it are crucial for sustaining growth and competitiveness."
   ]
  },
  {
   "cell_type": "markdown",
   "id": "c2504380-ca06-4814-87b9-b4752bdc104e",
   "metadata": {},
   "source": [
    "### Research Problem\n",
    "Despite various efforts by telecom companies to improve customer retention, high churn rates remain a pervasive issue. The challenge lies in identifying the key factors that influence a customer's decision to switch providers and predicting potential churners with high accuracy. This study aims to analyze customer data, identify significant churn predictors, and develop a predictive model to help telecom companies proactively address churn risks."
   ]
  },
  {
   "cell_type": "markdown",
   "id": "49665866-f408-4322-8eca-754706078c2a",
   "metadata": {},
   "source": [
    "### Objectives\n",
    "1. **Specific:** To identify the key factors that contribute to customer churn in the telecom industry.\n",
    "2. **Measurable:** To develop a predictive model with an accuracy of at least 80% in identifying churners.\n",
    "3. **Achievable:** To utilize available customer data and machine learning techniques to build and validate the model.\n",
    "4. **Relevant:** To provide actionable insights that can be used by telecom companies to reduce churn rates.\n",
    "5. **Time-bound:** To complete the analysis and model development within three months."
   ]
  },
  {
   "cell_type": "markdown",
   "id": "20a8f4b9-18ab-4ae8-967d-3a16188a61bd",
   "metadata": {},
   "source": [
    "### Hypothesis\n",
    "1. Customers with lower satisfaction scores are more likely to churn.\n",
    "2. High usage of support services (e.g., customer service calls) is positively correlated with churn.\n"
   ]
  },
  {
   "cell_type": "markdown",
   "id": "4fa58fb4-bbec-44cc-8128-a7a315a453d9",
   "metadata": {},
   "source": [
    "## Methodology, Results, and Discussion"
   ]
  },
  {
   "cell_type": "markdown",
   "id": "1d09f70d-2ac4-44c5-8a7b-5a7c23a017d0",
   "metadata": {},
   "source": [
    "### Data Description\n",
    "The dataset used in this study comprises telecom customer data collected over a period of one year, from January 2023 to December 2023. The data was sourced from a major telecom provider's customer database. Data collection was conducted under normal business conditions, ensuring the authenticity and reliability of the information."
   ]
  },
  {
   "cell_type": "markdown",
   "id": "aef534ca-6913-4156-b139-1f7357189583",
   "metadata": {},
   "source": [
    "**Variables Description:**\n",
    "\n",
    "| Variable                        | Description                                      |\n",
    "|---------------------------------|--------------------------------------------------|\n",
    "| `Customer ID`                   | Unique identifier for each customer              |\n",
    "| `Gender`                        | Gender of the customer                           |\n",
    "| `Age`                           | Age of the customer                              |\n",
    "| `Married`                       | Whether the customer is married (Yes, No)        |\n",
    "| `Number of Dependents`          | Number of dependents the customer has            |\n",
    "| `City`                          | City of the customer                             |\n",
    "| `Zip Code`                      | Zip code of the customer's address               |\n",
    "| `Latitude`                      | Latitude of the customer's location              |\n",
    "| `Longitude`                     | Longitude of the customer's location             |\n",
    "| `Number of Referrals`           | Number of referrals made by the customer         |\n",
    "| `Tenure in Months`              | Number of months the customer has stayed         |\n",
    "| `Offer`                         | Type of offer (None, Offer A, Offer B, etc.)     |\n",
    "| `Phone Service`                 | Whether the customer has phone service (Yes, No) |\n",
    "| `Avg Monthly Long Distance Charges` | Average monthly long-distance charges     |\n",
    "| `Multiple Lines`                | Whether the customer has multiple lines (Yes, No)|\n",
    "| `Internet Service`              | Type of internet service (DSL, Fiber optic, No)  |\n",
    "| `Internet Type`                 | Type of internet connection                      |\n",
    "| `Online Security`               | Online security service (Yes, No)                |\n",
    "| `Online Backup`                 | Online backup service (Yes, No)                  |\n",
    "| `Device Protection Plan`        | Device protection service (Yes, No)              |\n",
    "| `Premium Tech Support`          | Premium technical support service (Yes, No)      |\n",
    "| `Streaming TV`                  | Streaming TV service (Yes, No)                   |\n",
    "| `Streaming Movies`              | Streaming movies service (Yes, No)               |\n",
    "| `Streaming Music`               | Streaming music service (Yes, No)                |\n",
    "| `Unlimited Data`                | Whether the customer has unlimited data (Yes, No)|\n",
    "| `Contract`                      | Type of contract (Month-to-month, One year, Two year)|\n",
    "| `Paperless Billing`             | Whether the customer uses paperless billing (Yes, No)|\n",
    "| `Payment Method`                | Payment method (Credit card, Bank transfer, etc.)|\n",
    "| `Monthly Charge`                | Monthly charges                                  |\n",
    "| `Total Charges`                 | Total charges                                    |\n",
    "| `Total Refunds`                 | Total refunds issued                             |\n",
    "| `Total Extra Data Charges`      | Total extra data charges incurred                |\n",
    "| `Total Long Distance Charges`   | Total long-distance charges                      |\n",
    "| `Total Revenue`                 | Total revenue generated                          |\n",
    "| `Customer Status`               | Current status of the customer (Stayed, Churned) |\n",
    "| `Churn Category`                | Category of churn (Competitor, Dissatisfaction, etc.)|\n",
    "| `Churn Reason`                  | Reason for churn (if available)   "
   ]
  },
  {
   "cell_type": "markdown",
   "id": "2a300ddb-c719-47c4-8e61-c951e88985c0",
   "metadata": {},
   "source": [
    "#### Source of Data\n",
    "The data used in this study was sourced from a major telecom provider's customer relationship management (CRM) system. This comprehensive dataset includes demographic, service usage, and financial information about the customers.\n",
    "\n",
    "#### Period Collected\n",
    "The data was collected over a one-year period, from January 2023 to December 2023.\n",
    "\n",
    "#### How it Was Collected\n",
    "The data was extracted directly from the telecom company's CRM system, ensuring accurate and up-to-date information on customer interactions and transactions.\n",
    "\n",
    "#### Under What Conditions it Was Collected\n",
    "The data was collected under normal business operations, ensuring the data reflects typical customer behavior and interactions with the telecom company."
   ]
  },
  {
   "cell_type": "markdown",
   "id": "1dcf3031-5075-4211-a427-35dd609accce",
   "metadata": {},
   "source": [
    "### Exploratory Data Analytics [10 Marks]\n",
    "\n"
   ]
  },
  {
   "cell_type": "markdown",
   "id": "ad71f83f-5db6-4fee-af55-9e41e9e1050c",
   "metadata": {},
   "source": [
    "### Importing libraries"
   ]
  },
  {
   "cell_type": "code",
   "execution_count": 1,
   "id": "2250346f-27f7-4873-8e69-ae8ad6673ce8",
   "metadata": {},
   "outputs": [],
   "source": [
    "import pandas as pd\n",
    "import pylab as pl\n",
    "import numpy as np\n",
    "import scipy.optimize as opt\n",
    "from sklearn import preprocessing\n",
    "%matplotlib inline \n",
    "import matplotlib.pyplot as plt\n",
    "import pandas as pd #reading the dataset\n",
    "import numpy as np\n",
    "import matplotlib.pyplot as plt\n",
    "import seaborn as sns #for plotting\n",
    "from sklearn.model_selection import train_test_split, cross_val_score\n",
    "from sklearn.impute import SimpleImputer #\n",
    "from sklearn.linear_model import LinearRegression\n",
    "from sklearn.preprocessing import StandardScaler, LabelEncoder\n",
    "from sklearn.metrics import mean_squared_error\n",
    "from sklearn.ensemble import RandomForestRegressor\n"
   ]
  },
  {
   "cell_type": "markdown",
   "id": "f60d15d3-757b-4a75-a6c0-5d45a7ae0fb0",
   "metadata": {},
   "source": [
    "### Reading the file"
   ]
  },
  {
   "cell_type": "code",
   "execution_count": 2,
   "id": "3b3254a0-28bc-44a6-8951-23ea1d716820",
   "metadata": {
    "scrolled": true
   },
   "outputs": [
    {
     "data": {
      "text/html": [
       "<div>\n",
       "<style scoped>\n",
       "    .dataframe tbody tr th:only-of-type {\n",
       "        vertical-align: middle;\n",
       "    }\n",
       "\n",
       "    .dataframe tbody tr th {\n",
       "        vertical-align: top;\n",
       "    }\n",
       "\n",
       "    .dataframe thead th {\n",
       "        text-align: right;\n",
       "    }\n",
       "</style>\n",
       "<table border=\"1\" class=\"dataframe\">\n",
       "  <thead>\n",
       "    <tr style=\"text-align: right;\">\n",
       "      <th></th>\n",
       "      <th>Customer ID</th>\n",
       "      <th>Gender</th>\n",
       "      <th>Age</th>\n",
       "      <th>Married</th>\n",
       "      <th>Number of Dependents</th>\n",
       "      <th>City</th>\n",
       "      <th>Zip Code</th>\n",
       "      <th>Latitude</th>\n",
       "      <th>Longitude</th>\n",
       "      <th>Number of Referrals</th>\n",
       "      <th>...</th>\n",
       "      <th>Payment Method</th>\n",
       "      <th>Monthly Charge</th>\n",
       "      <th>Total Charges</th>\n",
       "      <th>Total Refunds</th>\n",
       "      <th>Total Extra Data Charges</th>\n",
       "      <th>Total Long Distance Charges</th>\n",
       "      <th>Total Revenue</th>\n",
       "      <th>Customer Status</th>\n",
       "      <th>Churn Category</th>\n",
       "      <th>Churn Reason</th>\n",
       "    </tr>\n",
       "  </thead>\n",
       "  <tbody>\n",
       "    <tr>\n",
       "      <th>0</th>\n",
       "      <td>0002-ORFBO</td>\n",
       "      <td>Female</td>\n",
       "      <td>37</td>\n",
       "      <td>Yes</td>\n",
       "      <td>0</td>\n",
       "      <td>Frazier Park</td>\n",
       "      <td>93225</td>\n",
       "      <td>34.827662</td>\n",
       "      <td>-118.999073</td>\n",
       "      <td>2</td>\n",
       "      <td>...</td>\n",
       "      <td>Credit Card</td>\n",
       "      <td>65.6</td>\n",
       "      <td>593.30</td>\n",
       "      <td>0.00</td>\n",
       "      <td>0</td>\n",
       "      <td>381.51</td>\n",
       "      <td>974.81</td>\n",
       "      <td>Stayed</td>\n",
       "      <td>NaN</td>\n",
       "      <td>NaN</td>\n",
       "    </tr>\n",
       "    <tr>\n",
       "      <th>1</th>\n",
       "      <td>0003-MKNFE</td>\n",
       "      <td>Male</td>\n",
       "      <td>46</td>\n",
       "      <td>No</td>\n",
       "      <td>0</td>\n",
       "      <td>Glendale</td>\n",
       "      <td>91206</td>\n",
       "      <td>34.162515</td>\n",
       "      <td>-118.203869</td>\n",
       "      <td>0</td>\n",
       "      <td>...</td>\n",
       "      <td>Credit Card</td>\n",
       "      <td>-4.0</td>\n",
       "      <td>542.40</td>\n",
       "      <td>38.33</td>\n",
       "      <td>10</td>\n",
       "      <td>96.21</td>\n",
       "      <td>610.28</td>\n",
       "      <td>Stayed</td>\n",
       "      <td>NaN</td>\n",
       "      <td>NaN</td>\n",
       "    </tr>\n",
       "    <tr>\n",
       "      <th>2</th>\n",
       "      <td>0004-TLHLJ</td>\n",
       "      <td>Male</td>\n",
       "      <td>50</td>\n",
       "      <td>No</td>\n",
       "      <td>0</td>\n",
       "      <td>Costa Mesa</td>\n",
       "      <td>92627</td>\n",
       "      <td>33.645672</td>\n",
       "      <td>-117.922613</td>\n",
       "      <td>0</td>\n",
       "      <td>...</td>\n",
       "      <td>Bank Withdrawal</td>\n",
       "      <td>73.9</td>\n",
       "      <td>280.85</td>\n",
       "      <td>0.00</td>\n",
       "      <td>0</td>\n",
       "      <td>134.60</td>\n",
       "      <td>415.45</td>\n",
       "      <td>Churned</td>\n",
       "      <td>Competitor</td>\n",
       "      <td>Competitor had better devices</td>\n",
       "    </tr>\n",
       "    <tr>\n",
       "      <th>3</th>\n",
       "      <td>0011-IGKFF</td>\n",
       "      <td>Male</td>\n",
       "      <td>78</td>\n",
       "      <td>Yes</td>\n",
       "      <td>0</td>\n",
       "      <td>Martinez</td>\n",
       "      <td>94553</td>\n",
       "      <td>38.014457</td>\n",
       "      <td>-122.115432</td>\n",
       "      <td>1</td>\n",
       "      <td>...</td>\n",
       "      <td>Bank Withdrawal</td>\n",
       "      <td>98.0</td>\n",
       "      <td>1237.85</td>\n",
       "      <td>0.00</td>\n",
       "      <td>0</td>\n",
       "      <td>361.66</td>\n",
       "      <td>1599.51</td>\n",
       "      <td>Churned</td>\n",
       "      <td>Dissatisfaction</td>\n",
       "      <td>Product dissatisfaction</td>\n",
       "    </tr>\n",
       "    <tr>\n",
       "      <th>4</th>\n",
       "      <td>0013-EXCHZ</td>\n",
       "      <td>Female</td>\n",
       "      <td>75</td>\n",
       "      <td>Yes</td>\n",
       "      <td>0</td>\n",
       "      <td>Camarillo</td>\n",
       "      <td>93010</td>\n",
       "      <td>34.227846</td>\n",
       "      <td>-119.079903</td>\n",
       "      <td>3</td>\n",
       "      <td>...</td>\n",
       "      <td>Credit Card</td>\n",
       "      <td>83.9</td>\n",
       "      <td>267.40</td>\n",
       "      <td>0.00</td>\n",
       "      <td>0</td>\n",
       "      <td>22.14</td>\n",
       "      <td>289.54</td>\n",
       "      <td>Churned</td>\n",
       "      <td>Dissatisfaction</td>\n",
       "      <td>Network reliability</td>\n",
       "    </tr>\n",
       "  </tbody>\n",
       "</table>\n",
       "<p>5 rows × 38 columns</p>\n",
       "</div>"
      ],
      "text/plain": [
       "  Customer ID  Gender  Age Married  Number of Dependents          City  \\\n",
       "0  0002-ORFBO  Female   37     Yes                     0  Frazier Park   \n",
       "1  0003-MKNFE    Male   46      No                     0      Glendale   \n",
       "2  0004-TLHLJ    Male   50      No                     0    Costa Mesa   \n",
       "3  0011-IGKFF    Male   78     Yes                     0      Martinez   \n",
       "4  0013-EXCHZ  Female   75     Yes                     0     Camarillo   \n",
       "\n",
       "   Zip Code   Latitude   Longitude  Number of Referrals  ...   Payment Method  \\\n",
       "0     93225  34.827662 -118.999073                    2  ...      Credit Card   \n",
       "1     91206  34.162515 -118.203869                    0  ...      Credit Card   \n",
       "2     92627  33.645672 -117.922613                    0  ...  Bank Withdrawal   \n",
       "3     94553  38.014457 -122.115432                    1  ...  Bank Withdrawal   \n",
       "4     93010  34.227846 -119.079903                    3  ...      Credit Card   \n",
       "\n",
       "  Monthly Charge Total Charges  Total Refunds Total Extra Data Charges  \\\n",
       "0           65.6        593.30           0.00                        0   \n",
       "1           -4.0        542.40          38.33                       10   \n",
       "2           73.9        280.85           0.00                        0   \n",
       "3           98.0       1237.85           0.00                        0   \n",
       "4           83.9        267.40           0.00                        0   \n",
       "\n",
       "  Total Long Distance Charges Total Revenue  Customer Status   Churn Category  \\\n",
       "0                      381.51        974.81           Stayed              NaN   \n",
       "1                       96.21        610.28           Stayed              NaN   \n",
       "2                      134.60        415.45          Churned       Competitor   \n",
       "3                      361.66       1599.51          Churned  Dissatisfaction   \n",
       "4                       22.14        289.54          Churned  Dissatisfaction   \n",
       "\n",
       "                    Churn Reason  \n",
       "0                            NaN  \n",
       "1                            NaN  \n",
       "2  Competitor had better devices  \n",
       "3        Product dissatisfaction  \n",
       "4            Network reliability  \n",
       "\n",
       "[5 rows x 38 columns]"
      ]
     },
     "execution_count": 2,
     "metadata": {},
     "output_type": "execute_result"
    }
   ],
   "source": [
    "churn = pd. read_csv('telecom_customer_churn.csv')\n",
    "churn.head()"
   ]
  },
  {
   "cell_type": "markdown",
   "id": "10a8ffa1-0e0d-4f1b-98fc-11e8f9565429",
   "metadata": {},
   "source": [
    "### Exploratory Data Analysis"
   ]
  },
  {
   "cell_type": "code",
   "execution_count": 3,
   "id": "65d5fd18-ce9c-4141-ab06-31f4ca3facd2",
   "metadata": {},
   "outputs": [
    {
     "name": "stdout",
     "output_type": "stream",
     "text": [
      "<class 'pandas.core.frame.DataFrame'>\n",
      "RangeIndex: 7043 entries, 0 to 7042\n",
      "Data columns (total 38 columns):\n",
      " #   Column                             Non-Null Count  Dtype  \n",
      "---  ------                             --------------  -----  \n",
      " 0   Customer ID                        7043 non-null   object \n",
      " 1   Gender                             7043 non-null   object \n",
      " 2   Age                                7043 non-null   int64  \n",
      " 3   Married                            7043 non-null   object \n",
      " 4   Number of Dependents               7043 non-null   int64  \n",
      " 5   City                               7043 non-null   object \n",
      " 6   Zip Code                           7043 non-null   int64  \n",
      " 7   Latitude                           7043 non-null   float64\n",
      " 8   Longitude                          7043 non-null   float64\n",
      " 9   Number of Referrals                7043 non-null   int64  \n",
      " 10  Tenure in Months                   7043 non-null   int64  \n",
      " 11  Offer                              3166 non-null   object \n",
      " 12  Phone Service                      7043 non-null   object \n",
      " 13  Avg Monthly Long Distance Charges  6361 non-null   float64\n",
      " 14  Multiple Lines                     6361 non-null   object \n",
      " 15  Internet Service                   7043 non-null   object \n",
      " 16  Internet Type                      5517 non-null   object \n",
      " 17  Avg Monthly GB Download            5517 non-null   float64\n",
      " 18  Online Security                    5517 non-null   object \n",
      " 19  Online Backup                      5517 non-null   object \n",
      " 20  Device Protection Plan             5517 non-null   object \n",
      " 21  Premium Tech Support               5517 non-null   object \n",
      " 22  Streaming TV                       5517 non-null   object \n",
      " 23  Streaming Movies                   5517 non-null   object \n",
      " 24  Streaming Music                    5517 non-null   object \n",
      " 25  Unlimited Data                     5517 non-null   object \n",
      " 26  Contract                           7043 non-null   object \n",
      " 27  Paperless Billing                  7043 non-null   object \n",
      " 28  Payment Method                     7043 non-null   object \n",
      " 29  Monthly Charge                     7043 non-null   float64\n",
      " 30  Total Charges                      7043 non-null   float64\n",
      " 31  Total Refunds                      7043 non-null   float64\n",
      " 32  Total Extra Data Charges           7043 non-null   int64  \n",
      " 33  Total Long Distance Charges        7043 non-null   float64\n",
      " 34  Total Revenue                      7043 non-null   float64\n",
      " 35  Customer Status                    7043 non-null   object \n",
      " 36  Churn Category                     1869 non-null   object \n",
      " 37  Churn Reason                       1869 non-null   object \n",
      "dtypes: float64(9), int64(6), object(23)\n",
      "memory usage: 2.0+ MB\n"
     ]
    }
   ],
   "source": [
    "churn.info()\n"
   ]
  },
  {
   "cell_type": "code",
   "execution_count": 4,
   "id": "15052661-13d1-421d-8b36-5231126c0aae",
   "metadata": {},
   "outputs": [
    {
     "data": {
      "text/html": [
       "<div>\n",
       "<style scoped>\n",
       "    .dataframe tbody tr th:only-of-type {\n",
       "        vertical-align: middle;\n",
       "    }\n",
       "\n",
       "    .dataframe tbody tr th {\n",
       "        vertical-align: top;\n",
       "    }\n",
       "\n",
       "    .dataframe thead th {\n",
       "        text-align: right;\n",
       "    }\n",
       "</style>\n",
       "<table border=\"1\" class=\"dataframe\">\n",
       "  <thead>\n",
       "    <tr style=\"text-align: right;\">\n",
       "      <th></th>\n",
       "      <th>Age</th>\n",
       "      <th>Number of Dependents</th>\n",
       "      <th>Zip Code</th>\n",
       "      <th>Latitude</th>\n",
       "      <th>Longitude</th>\n",
       "      <th>Number of Referrals</th>\n",
       "      <th>Tenure in Months</th>\n",
       "      <th>Avg Monthly Long Distance Charges</th>\n",
       "      <th>Avg Monthly GB Download</th>\n",
       "      <th>Monthly Charge</th>\n",
       "      <th>Total Charges</th>\n",
       "      <th>Total Refunds</th>\n",
       "      <th>Total Extra Data Charges</th>\n",
       "      <th>Total Long Distance Charges</th>\n",
       "      <th>Total Revenue</th>\n",
       "    </tr>\n",
       "  </thead>\n",
       "  <tbody>\n",
       "    <tr>\n",
       "      <th>count</th>\n",
       "      <td>7043.000000</td>\n",
       "      <td>7043.000000</td>\n",
       "      <td>7043.000000</td>\n",
       "      <td>7043.000000</td>\n",
       "      <td>7043.000000</td>\n",
       "      <td>7043.000000</td>\n",
       "      <td>7043.000000</td>\n",
       "      <td>6361.000000</td>\n",
       "      <td>5517.000000</td>\n",
       "      <td>7043.000000</td>\n",
       "      <td>7043.000000</td>\n",
       "      <td>7043.000000</td>\n",
       "      <td>7043.000000</td>\n",
       "      <td>7043.000000</td>\n",
       "      <td>7043.000000</td>\n",
       "    </tr>\n",
       "    <tr>\n",
       "      <th>mean</th>\n",
       "      <td>46.509726</td>\n",
       "      <td>0.468692</td>\n",
       "      <td>93486.070567</td>\n",
       "      <td>36.197455</td>\n",
       "      <td>-119.756684</td>\n",
       "      <td>1.951867</td>\n",
       "      <td>32.386767</td>\n",
       "      <td>25.420517</td>\n",
       "      <td>26.189958</td>\n",
       "      <td>63.596131</td>\n",
       "      <td>2280.381264</td>\n",
       "      <td>1.962182</td>\n",
       "      <td>6.860713</td>\n",
       "      <td>749.099262</td>\n",
       "      <td>3034.379056</td>\n",
       "    </tr>\n",
       "    <tr>\n",
       "      <th>std</th>\n",
       "      <td>16.750352</td>\n",
       "      <td>0.962802</td>\n",
       "      <td>1856.767505</td>\n",
       "      <td>2.468929</td>\n",
       "      <td>2.154425</td>\n",
       "      <td>3.001199</td>\n",
       "      <td>24.542061</td>\n",
       "      <td>14.200374</td>\n",
       "      <td>19.586585</td>\n",
       "      <td>31.204743</td>\n",
       "      <td>2266.220462</td>\n",
       "      <td>7.902614</td>\n",
       "      <td>25.104978</td>\n",
       "      <td>846.660055</td>\n",
       "      <td>2865.204542</td>\n",
       "    </tr>\n",
       "    <tr>\n",
       "      <th>min</th>\n",
       "      <td>19.000000</td>\n",
       "      <td>0.000000</td>\n",
       "      <td>90001.000000</td>\n",
       "      <td>32.555828</td>\n",
       "      <td>-124.301372</td>\n",
       "      <td>0.000000</td>\n",
       "      <td>1.000000</td>\n",
       "      <td>1.010000</td>\n",
       "      <td>2.000000</td>\n",
       "      <td>-10.000000</td>\n",
       "      <td>18.800000</td>\n",
       "      <td>0.000000</td>\n",
       "      <td>0.000000</td>\n",
       "      <td>0.000000</td>\n",
       "      <td>21.360000</td>\n",
       "    </tr>\n",
       "    <tr>\n",
       "      <th>25%</th>\n",
       "      <td>32.000000</td>\n",
       "      <td>0.000000</td>\n",
       "      <td>92101.000000</td>\n",
       "      <td>33.990646</td>\n",
       "      <td>-121.788090</td>\n",
       "      <td>0.000000</td>\n",
       "      <td>9.000000</td>\n",
       "      <td>13.050000</td>\n",
       "      <td>13.000000</td>\n",
       "      <td>30.400000</td>\n",
       "      <td>400.150000</td>\n",
       "      <td>0.000000</td>\n",
       "      <td>0.000000</td>\n",
       "      <td>70.545000</td>\n",
       "      <td>605.610000</td>\n",
       "    </tr>\n",
       "    <tr>\n",
       "      <th>50%</th>\n",
       "      <td>46.000000</td>\n",
       "      <td>0.000000</td>\n",
       "      <td>93518.000000</td>\n",
       "      <td>36.205465</td>\n",
       "      <td>-119.595293</td>\n",
       "      <td>0.000000</td>\n",
       "      <td>29.000000</td>\n",
       "      <td>25.690000</td>\n",
       "      <td>21.000000</td>\n",
       "      <td>70.050000</td>\n",
       "      <td>1394.550000</td>\n",
       "      <td>0.000000</td>\n",
       "      <td>0.000000</td>\n",
       "      <td>401.440000</td>\n",
       "      <td>2108.640000</td>\n",
       "    </tr>\n",
       "    <tr>\n",
       "      <th>75%</th>\n",
       "      <td>60.000000</td>\n",
       "      <td>0.000000</td>\n",
       "      <td>95329.000000</td>\n",
       "      <td>38.161321</td>\n",
       "      <td>-117.969795</td>\n",
       "      <td>3.000000</td>\n",
       "      <td>55.000000</td>\n",
       "      <td>37.680000</td>\n",
       "      <td>30.000000</td>\n",
       "      <td>89.750000</td>\n",
       "      <td>3786.600000</td>\n",
       "      <td>0.000000</td>\n",
       "      <td>0.000000</td>\n",
       "      <td>1191.100000</td>\n",
       "      <td>4801.145000</td>\n",
       "    </tr>\n",
       "    <tr>\n",
       "      <th>max</th>\n",
       "      <td>80.000000</td>\n",
       "      <td>9.000000</td>\n",
       "      <td>96150.000000</td>\n",
       "      <td>41.962127</td>\n",
       "      <td>-114.192901</td>\n",
       "      <td>11.000000</td>\n",
       "      <td>72.000000</td>\n",
       "      <td>49.990000</td>\n",
       "      <td>85.000000</td>\n",
       "      <td>118.750000</td>\n",
       "      <td>8684.800000</td>\n",
       "      <td>49.790000</td>\n",
       "      <td>150.000000</td>\n",
       "      <td>3564.720000</td>\n",
       "      <td>11979.340000</td>\n",
       "    </tr>\n",
       "  </tbody>\n",
       "</table>\n",
       "</div>"
      ],
      "text/plain": [
       "               Age  Number of Dependents      Zip Code     Latitude  \\\n",
       "count  7043.000000           7043.000000   7043.000000  7043.000000   \n",
       "mean     46.509726              0.468692  93486.070567    36.197455   \n",
       "std      16.750352              0.962802   1856.767505     2.468929   \n",
       "min      19.000000              0.000000  90001.000000    32.555828   \n",
       "25%      32.000000              0.000000  92101.000000    33.990646   \n",
       "50%      46.000000              0.000000  93518.000000    36.205465   \n",
       "75%      60.000000              0.000000  95329.000000    38.161321   \n",
       "max      80.000000              9.000000  96150.000000    41.962127   \n",
       "\n",
       "         Longitude  Number of Referrals  Tenure in Months  \\\n",
       "count  7043.000000          7043.000000       7043.000000   \n",
       "mean   -119.756684             1.951867         32.386767   \n",
       "std       2.154425             3.001199         24.542061   \n",
       "min    -124.301372             0.000000          1.000000   \n",
       "25%    -121.788090             0.000000          9.000000   \n",
       "50%    -119.595293             0.000000         29.000000   \n",
       "75%    -117.969795             3.000000         55.000000   \n",
       "max    -114.192901            11.000000         72.000000   \n",
       "\n",
       "       Avg Monthly Long Distance Charges  Avg Monthly GB Download  \\\n",
       "count                        6361.000000              5517.000000   \n",
       "mean                           25.420517                26.189958   \n",
       "std                            14.200374                19.586585   \n",
       "min                             1.010000                 2.000000   \n",
       "25%                            13.050000                13.000000   \n",
       "50%                            25.690000                21.000000   \n",
       "75%                            37.680000                30.000000   \n",
       "max                            49.990000                85.000000   \n",
       "\n",
       "       Monthly Charge  Total Charges  Total Refunds  Total Extra Data Charges  \\\n",
       "count     7043.000000    7043.000000    7043.000000               7043.000000   \n",
       "mean        63.596131    2280.381264       1.962182                  6.860713   \n",
       "std         31.204743    2266.220462       7.902614                 25.104978   \n",
       "min        -10.000000      18.800000       0.000000                  0.000000   \n",
       "25%         30.400000     400.150000       0.000000                  0.000000   \n",
       "50%         70.050000    1394.550000       0.000000                  0.000000   \n",
       "75%         89.750000    3786.600000       0.000000                  0.000000   \n",
       "max        118.750000    8684.800000      49.790000                150.000000   \n",
       "\n",
       "       Total Long Distance Charges  Total Revenue  \n",
       "count                  7043.000000    7043.000000  \n",
       "mean                    749.099262    3034.379056  \n",
       "std                     846.660055    2865.204542  \n",
       "min                       0.000000      21.360000  \n",
       "25%                      70.545000     605.610000  \n",
       "50%                     401.440000    2108.640000  \n",
       "75%                    1191.100000    4801.145000  \n",
       "max                    3564.720000   11979.340000  "
      ]
     },
     "execution_count": 4,
     "metadata": {},
     "output_type": "execute_result"
    }
   ],
   "source": [
    "churn.describe()"
   ]
  },
  {
   "cell_type": "code",
   "execution_count": 5,
   "id": "51e5ae99-8c74-485e-90df-80f2fe1b1cd0",
   "metadata": {},
   "outputs": [
    {
     "data": {
      "text/plain": [
       "(7043, 38)"
      ]
     },
     "execution_count": 5,
     "metadata": {},
     "output_type": "execute_result"
    }
   ],
   "source": [
    "churn.shape\n"
   ]
  },
  {
   "cell_type": "code",
   "execution_count": 6,
   "id": "210871f0-3ff6-4b58-860b-f86a88b174f1",
   "metadata": {},
   "outputs": [
    {
     "data": {
      "text/plain": [
       "Index(['Customer ID', 'Gender', 'Age', 'Married', 'Number of Dependents',\n",
       "       'City', 'Zip Code', 'Latitude', 'Longitude', 'Number of Referrals',\n",
       "       'Tenure in Months', 'Offer', 'Phone Service',\n",
       "       'Avg Monthly Long Distance Charges', 'Multiple Lines',\n",
       "       'Internet Service', 'Internet Type', 'Avg Monthly GB Download',\n",
       "       'Online Security', 'Online Backup', 'Device Protection Plan',\n",
       "       'Premium Tech Support', 'Streaming TV', 'Streaming Movies',\n",
       "       'Streaming Music', 'Unlimited Data', 'Contract', 'Paperless Billing',\n",
       "       'Payment Method', 'Monthly Charge', 'Total Charges', 'Total Refunds',\n",
       "       'Total Extra Data Charges', 'Total Long Distance Charges',\n",
       "       'Total Revenue', 'Customer Status', 'Churn Category', 'Churn Reason'],\n",
       "      dtype='object')"
      ]
     },
     "execution_count": 6,
     "metadata": {},
     "output_type": "execute_result"
    }
   ],
   "source": [
    "churn.columns"
   ]
  },
  {
   "cell_type": "code",
   "execution_count": 7,
   "id": "0e3af313-bfb0-42e7-afde-9521aa9fbe5a",
   "metadata": {},
   "outputs": [
    {
     "name": "stdout",
     "output_type": "stream",
     "text": [
      "Offer                                3877\n",
      "Avg Monthly Long Distance Charges     682\n",
      "Multiple Lines                        682\n",
      "Internet Type                        1526\n",
      "Avg Monthly GB Download              1526\n",
      "Online Security                      1526\n",
      "Online Backup                        1526\n",
      "Device Protection Plan               1526\n",
      "Premium Tech Support                 1526\n",
      "Streaming TV                         1526\n",
      "Streaming Movies                     1526\n",
      "Streaming Music                      1526\n",
      "Unlimited Data                       1526\n",
      "Churn Category                       5174\n",
      "Churn Reason                         5174\n",
      "dtype: int64\n"
     ]
    }
   ],
   "source": [
    "#let's check for number of missing entries in each column\n",
    "#churn.isnull().sum()\n",
    "null_values_train = churn.isnull().sum()\n",
    "print(null_values_train[null_values_train>0])"
   ]
  },
  {
   "cell_type": "code",
   "execution_count": null,
   "id": "39de1d70-7a86-41b2-b72b-d3c4cab3eb8b",
   "metadata": {},
   "outputs": [],
   "source": []
  },
  {
   "cell_type": "markdown",
   "id": "78b488e0-aeec-42f3-829a-d9d6f788668e",
   "metadata": {},
   "source": [
    "#### Descriptive Analytics\n",
    "1. **Gender Distribution:**\n",
    "   - The distribution between male and female customers appears to be roughly equal.\n",
    "\n",
    "2. **Age Distribution:**\n",
    "   - The age distribution of customers shows a wide range, indicating that the telecom company serves a diverse age group.\n",
    "\n"
   ]
  },
  {
   "cell_type": "code",
   "execution_count": 8,
   "id": "ca4719a3-d614-4161-a291-25d54baac4d6",
   "metadata": {},
   "outputs": [
    {
     "name": "stdout",
     "output_type": "stream",
     "text": [
      "[37 46 50 78 75 23 67 52 68 43 47 25 58 32 39 72 79 26 30 22 34 42 64 48\n",
      " 28 33 31 60 69 20 57 19 38 54 35 51 66 61 24 55 59 71 49 40 21 45 29 62\n",
      " 76 77 73 41 56 80 63 53 44 70 74 36 27 65]\n"
     ]
    }
   ],
   "source": [
    "# Inspect the unique values in the 'Age' column\n",
    "print(churn['Age'].unique())"
   ]
  },
  {
   "cell_type": "code",
   "execution_count": 9,
   "id": "d06e0f6f-7abf-4547-b84e-5fd522d4ad60",
   "metadata": {},
   "outputs": [
    {
     "data": {
      "image/png": "[encoded data removed]",
      "text/plain": [
       "<Figure size 800x500 with 1 Axes>"
      ]
     },
     "metadata": {},
     "output_type": "display_data"
    }
   ],
   "source": [
    "#Age Distribution\n",
    "plt.figure(figsize=(8, 5))\n",
    "sns.countplot(x='Age', data=churn)\n",
    "plt.title('Age Distribution')\n",
    "plt.xlabel('Age')\n",
    "plt.ylabel('Count')\n",
    "plt.show()"
   ]
  },
  {
   "cell_type": "markdown",
   "id": "fa02e547-5564-49ab-b866-05f6b3179b4a",
   "metadata": {},
   "source": [
    "3. **Contract Types Distribution:**\n",
    "   - There is a significant proportion of customers on month-to-month contracts compared to one-year or two-year contracts.\n"
   ]
  },
  {
   "cell_type": "code",
   "execution_count": 10,
   "id": "2c1388a1-c914-445f-8cbe-fce588a05826",
   "metadata": {},
   "outputs": [
    {
     "name": "stdout",
     "output_type": "stream",
     "text": [
      "['One Year' 'Month-to-Month' 'Two Year']\n"
     ]
    }
   ],
   "source": [
    "# Inspect the unique values in the 'Contract' column\n",
    "print(churn['Contract'].unique())"
   ]
  },
  {
   "cell_type": "code",
   "execution_count": 11,
   "id": "9bc97c8c-18dd-4710-ad29-b1c6d4ba055c",
   "metadata": {},
   "outputs": [
    {
     "data": {
      "image/png": "[encoded data removed]",
      "text/plain": [
       "<Figure size 800x500 with 1 Axes>"
      ]
     },
     "metadata": {},
     "output_type": "display_data"
    }
   ],
   "source": [
    "# Contract Types\n",
    "plt.figure(figsize=(8, 5))\n",
    "sns.countplot(x='Contract', data=churn)\n",
    "plt.title('Contract Types Distribution')\n",
    "plt.xlabel('Contract Type')\n",
    "plt.ylabel('Count')\n",
    "plt.show()"
   ]
  },
  {
   "cell_type": "markdown",
   "id": "4246c0d4-87b8-4de6-965c-530ab5748532",
   "metadata": {},
   "source": [
    "#### Diagnostic Analytics\n",
    "4. **Churn by Tenure:**\n",
    "   - Customers with shorter tenures have higher churn rates. This suggests that newer customers are more likely to leave."
   ]
  },
  {
   "cell_type": "code",
   "execution_count": 12,
   "id": "a7d06e7a-72c8-4397-be7d-0853f4966c52",
   "metadata": {},
   "outputs": [
    {
     "name": "stdout",
     "output_type": "stream",
     "text": [
      "[ 9  4 13  3 71 63  7 65 54 72  5 56 34  1 45 50 23 55 26 69 37 49 66 67\n",
      " 20 43 59 12 27  2 25 29 14 35 64 39 40 11  6 30 70 57 58 16 32 33 10 21\n",
      " 61 15 44 22 24 19 47 62 46 52  8 60 48 28 41 53 68 31 36 17 18 51 38 42]\n"
     ]
    }
   ],
   "source": [
    "# Inspect the unique values in the 'Tenure in Months' column\n",
    "print(churn['Tenure in Months'].unique())"
   ]
  },
  {
   "cell_type": "code",
   "execution_count": 13,
   "id": "1fcda513-aa27-42ad-988a-279de883f093",
   "metadata": {},
   "outputs": [
    {
     "data": {
      "image/png": "[encoded data removed]",
      "text/plain": [
       "<Figure size 800x500 with 1 Axes>"
      ]
     },
     "metadata": {},
     "output_type": "display_data"
    }
   ],
   "source": [
    "# Tenure in months\n",
    "plt.figure(figsize=(8, 5))\n",
    "sns.countplot(x='Tenure in Months', data=churn)\n",
    "plt.title('Tenure in Months')\n",
    "plt.xlabel('Contract Type')\n",
    "plt.ylabel('Count')\n",
    "plt.show()"
   ]
  },
  {
   "cell_type": "markdown",
   "id": "0668bab8-89c8-4c9a-aa8d-6dc0f5864dfb",
   "metadata": {},
   "source": [
    "5. **Churn by Monthly Charges:**\n",
    "   - There is a visible trend where customers with higher monthly charges are more likely to churn."
   ]
  },
  {
   "cell_type": "code",
   "execution_count": 14,
   "id": "dc7dc495-bb2d-4e64-867c-8ff0277e509f",
   "metadata": {},
   "outputs": [
    {
     "name": "stdout",
     "output_type": "stream",
     "text": [
      "[65.6  -4.   73.9  ... 91.75 68.8  67.85]\n"
     ]
    }
   ],
   "source": [
    "\n",
    "# Inspect the unique values in the 'Monthly Charges' column\n",
    "print(churn['Monthly Charge'].unique())"
   ]
  },
  {
   "cell_type": "code",
   "execution_count": null,
   "id": "75d75eb6-143d-4e73-9b06-88a85a7b1463",
   "metadata": {},
   "outputs": [],
   "source": [
    "# Monthly Charge\n",
    "plt.figure(figsize=(8, 5))\n",
    "sns.countplot(x='Monthly Charge', data=churn)\n",
    "plt.title('Monthly Charges')\n",
    "plt.xlabel('Monthly Charge')\n",
    "plt.ylabel('Count')\n",
    "plt.show()"
   ]
  },
  {
   "cell_type": "markdown",
   "id": "0ff2ea2e-f119-4c35-96e9-3bcf1b302fcf",
   "metadata": {},
   "source": [
    "6. **Churn by Total Charges:**\n",
    "   - There is a visible trend where customers with higher monthly charges are more likely to churn.\n"
   ]
  },
  {
   "cell_type": "code",
   "execution_count": null,
   "id": "8523ec02-1ded-4f28-a3b2-b4507d079341",
   "metadata": {},
   "outputs": [],
   "source": [
    "# Churn by Monthly Charges\n",
    "plt.figure(figsize=(10, 6))\n",
    "sns.scatterplot(data=churn, x='Monthly Charge', y='Total Charges', hue='Customer Status')\n",
    "plt.title('Churn by Monthly Charges')\n",
    "plt.xlabel('Monthly Charge')\n",
    "plt.ylabel('Total Charges')\n",
    "plt.show()\n"
   ]
  },
  {
   "cell_type": "markdown",
   "id": "beda2c75-d301-48bf-bb45-68f09a86c84f",
   "metadata": {},
   "source": [
    "### Data Cleaning/Pre-treatment for Machine Learning [10 Marks]\n",
    "#### Handling Missing Values\n",
    "1. **Identify Missing Values:**\n",
    "   - Check for missing values in the dataset.\n",
    "\n",
    "2. **Impute or Remove Missing Values:**\n",
    "   - For this analysis, let's focus on imputing the missing values in `Total Charges`.\n",
    "\n",
    "#### Encoding Categorical Variables\n",
    "3. **One-Hot Encoding:**\n",
    "   - Convert categorical variables into numerical form using one-hot encoding.\n",
    "\n",
    "#### Scaling Numerical Features\n",
    "4. **Normalization:**\n",
    "   - Normalize features like `Monthly Charge` and `Total Charges`.\n"
   ]
  },
  {
   "cell_type": "markdown",
   "id": "8cb21bd2-e149-4260-810d-68a9db4b3252",
   "metadata": {},
   "source": [
    "### Building the classification model:"
   ]
  },
  {
   "cell_type": "markdown",
   "id": "71cc28bd-ecaf-457a-8cc6-92dfff4478e7",
   "metadata": {},
   "source": [
    "Now, you can build a classification model using scikit-learn"
   ]
  },
  {
   "cell_type": "code",
   "execution_count": null,
   "id": "a610940c-0bb4-4a80-91ea-cbaefd4ef46c",
   "metadata": {},
   "outputs": [],
   "source": [
    "from sklearn.model_selection import train_test_split\n",
    "from sklearn.linear_model import LogisticRegression\n",
    "from sklearn.metrics import accuracy_score, classification_report\n",
    "\n",
    "# Convert 'Gender' to numerical values\n",
    "churn['Gender'] = churn['Gender'].map({'Male': 1, 'Female': 0})\n",
    "\n",
    "# Features and target variable\n",
    "X = churn[['Gender', 'Age', 'Tenure in Months', 'Monthly Charge', 'Total Charges']]\n",
    "y = churn['Customer Status']\n",
    "\n",
    "# Split data into training and testing sets\n",
    "X_train, X_test, y_train, y_test = train_test_split(X, y, test_size=0.2, random_state=42)\n",
    "\n",
    "# Initialize and train the Logistic Regression model\n",
    "model = LogisticRegression()\n",
    "model.fit(X_train, y_train)\n",
    "\n",
    "# Make predictions\n",
    "y_pred = model.predict(X_test)\n",
    "\n",
    "# Evaluate the model\n",
    "accuracy = accuracy_score(y_test, y_pred)\n",
    "report = classification_report(y_test, y_pred)\n",
    "\n",
    "print(f\"Accuracy: {accuracy}\")\n",
    "print(f\"Classification Report:\\n{report}\")"
   ]
  },
  {
   "cell_type": "code",
   "execution_count": null,
   "id": "eac086b7-b6e0-43bc-81ed-d7307836125f",
   "metadata": {},
   "outputs": [],
   "source": [
    "X = np.asarray(churn[['Gender', 'Age', 'Tenure in Months', 'Monthly Charge', 'Total Charges']])\n",
    "X[0:5]"
   ]
  },
  {
   "cell_type": "code",
   "execution_count": null,
   "id": "2dbacc8d-c114-4045-a393-033b5ed3ae88",
   "metadata": {},
   "outputs": [],
   "source": [
    "y = np.asarray(churn['Customer Status'])\n",
    "y [0:5]"
   ]
  },
  {
   "cell_type": "markdown",
   "id": "5cfe817b-4f70-42b8-8599-1c7e360ba49a",
   "metadata": {},
   "source": [
    "Creating X and y"
   ]
  },
  {
   "cell_type": "code",
   "execution_count": null,
   "id": "5118f1b2-135b-49f8-8709-992ac1bc3bdb",
   "metadata": {},
   "outputs": [],
   "source": [
    "X_1 = churn.drop('Customer Status', axis = 1)\n",
    "X_n =np.asarray(X_1)"
   ]
  },
  {
   "cell_type": "code",
   "execution_count": null,
   "id": "03fff2e4-66cf-4186-a0af-007a0a478685",
   "metadata": {},
   "outputs": [],
   "source": [
    "y_1 = 'Customer Status'"
   ]
  },
  {
   "cell_type": "markdown",
   "id": "016857c0-e75d-4fa2-9578-b63719049b8a",
   "metadata": {},
   "source": [
    "Also, we normalize the dataset:"
   ]
  },
  {
   "cell_type": "code",
   "execution_count": null,
   "id": "6b6b5d3b-d087-495f-bf79-7be03265629e",
   "metadata": {},
   "outputs": [],
   "source": [
    "from sklearn.preprocessing import StandardScaler, MinMaxScaler, RobustScaler"
   ]
  },
  {
   "cell_type": "code",
   "execution_count": null,
   "id": "3f12fee0-7dc9-4dcf-b59d-2511fe3afce7",
   "metadata": {},
   "outputs": [],
   "source": [
    "scaler = MinMaxScaler()\n",
    "X = scaler.fit_transform(X) #this give -1 to 1 #OR the min-max normalization (0 to 1)\n",
    "X[0:5]"
   ]
  },
  {
   "cell_type": "code",
   "execution_count": null,
   "id": "adde1d59-0eee-44f1-a69d-70133741344d",
   "metadata": {},
   "outputs": [],
   "source": [
    "scaler = RobustScaler()\n",
    "X = scaler.fit_transform(X) #this give -1 to 1 #OR the min-max normalization (0 to 1)\n",
    "X[0:5]"
   ]
  },
  {
   "cell_type": "code",
   "execution_count": null,
   "id": "d66046e2-4d22-45be-a023-35b8a5c0e88b",
   "metadata": {},
   "outputs": [],
   "source": [
    "from sklearn import preprocessing\n",
    "X = preprocessing.StandardScaler().fit(X).transform(X) #this give -1 to 1 #OR the min-max normalization (0 to 1)\n",
    "X[0:5]"
   ]
  },
  {
   "cell_type": "markdown",
   "id": "6531ace0-a6f8-451f-bfd7-c90c1d687b44",
   "metadata": {},
   "source": [
    "### Predictive Data Analytics[with data science and machine learning models; new foresights] [15 Marks]\n",
    "#### Data Split\n",
    "1. Split the dataset into training and test sets (80-20 split).\n",
    "\n",
    "#### Model Selection and Training\n",
    "1. Train a logistic regression model.\n",
    "\n",
    "#### Model Evaluation\n",
    "1. Assess the model's performance using metrics such as accuracy, precision, recall, and F1-score."
   ]
  },
  {
   "cell_type": "markdown",
   "id": "3026f2d0-9536-4bad-b9a2-a59577a3f671",
   "metadata": {},
   "source": [
    "### Train/Test dataset"
   ]
  },
  {
   "cell_type": "markdown",
   "id": "9cc57796-c621-4102-a4ab-91632d880c37",
   "metadata": {},
   "source": [
    "We split our dataset into train and test set:"
   ]
  },
  {
   "cell_type": "code",
   "execution_count": null,
   "id": "62e1ca56-bbe3-4013-a03c-604b3c74fd73",
   "metadata": {},
   "outputs": [],
   "source": [
    "from sklearn.model_selection import train_test_split\n",
    "X_train, X_test, y_train, y_test = train_test_split(X, y, test_size=0.2, random_state=50)\n",
    "print ('Train set:', X_train.shape,  y_train.shape)\n",
    "print ('Test set:', X_test.shape,  y_test.shape)"
   ]
  },
  {
   "cell_type": "markdown",
   "id": "bdfc908c-708f-4cc2-885b-5cb31e5c8fec",
   "metadata": {},
   "source": [
    "# Modeling (Logistic Regression with Scikit-learn)"
   ]
  },
  {
   "cell_type": "markdown",
   "id": "b9ccfe9e-27b4-4e04-a6bd-398a50d45e1f",
   "metadata": {},
   "source": [
    "Let's build our model using LogisticRegression from the Scikit-learn package. This function implements logistic regression and can use different numerical optimizers to find parameters, including ‘newton-cg’, ‘lbfgs’, ‘liblinear’, ‘sag’, ‘saga’ solvers. You can find extensive information about the pros and cons of these optimizers if you search it in the internet.\n",
    "\n",
    "The version of Logistic Regression in Scikit-learn, support regularization. Regularization is a technique used to solve the overfitting problem of machine learning models. C parameter indicates inverse of regularization strength which must be a positive float. Smaller values specify stronger regularization. Now let's fit our model with train set:"
   ]
  },
  {
   "cell_type": "code",
   "execution_count": null,
   "id": "270a3b28-a1c3-4bde-b79c-a226d2b3ec19",
   "metadata": {},
   "outputs": [],
   "source": [
    "from sklearn.linear_model import LogisticRegression\n",
    "from sklearn.metrics import confusion_matrix\n",
    "LR = LogisticRegression(C=0.01, solver='liblinear').fit(X_train,y_train) #training\n",
    "LR\n"
   ]
  },
  {
   "cell_type": "markdown",
   "id": "c6d605be-df2e-404a-bc8c-4943e7f027ee",
   "metadata": {},
   "source": [
    "Now we can predict using our test set:"
   ]
  },
  {
   "cell_type": "code",
   "execution_count": null,
   "id": "19723c8f-ef3e-4a65-8064-f748b3767c49",
   "metadata": {},
   "outputs": [],
   "source": [
    "yhat = LR.predict(X_test)\n",
    "yhat"
   ]
  },
  {
   "cell_type": "markdown",
   "id": "a8f79ffd-e4c4-45eb-838a-728305a3d747",
   "metadata": {},
   "source": [
    "predict_proba returns estimates for all classes, ordered by the label of classes. So, the first column is the probability of class 0, P(Y=0|X), and second column is probability of class 1, P(Y=1|X):"
   ]
  },
  {
   "cell_type": "code",
   "execution_count": null,
   "id": "c5cbbb39-655d-4a0f-8074-50b0f34fdd87",
   "metadata": {},
   "outputs": [],
   "source": [
    "yhat_prob = LR.predict_proba(X_test)\n",
    "yhat_prob"
   ]
  },
  {
   "cell_type": "markdown",
   "id": "8aeac71e-d440-4696-a08b-3ed946afaaa0",
   "metadata": {},
   "source": [
    "### Evaluation"
   ]
  },
  {
   "cell_type": "markdown",
   "id": "c68a00b4-c7e0-4d64-b2e7-915f101edbef",
   "metadata": {},
   "source": [
    "### confusion matrix\n",
    "Another way of looking at the accuracy of the classifier is to look at confusion matrix."
   ]
  },
  {
   "cell_type": "code",
   "execution_count": null,
   "id": "32bdbe06-33be-4ffe-a173-f614bda093d2",
   "metadata": {},
   "outputs": [],
   "source": [
    "import itertools\n",
    "import matplotlib.pyplot as plt\n",
    "import numpy as np\n",
    "from sklearn.metrics import confusion_matrix\n",
    "from sklearn.metrics import confusion_matrix\n",
    "from sklearn.linear_model import LogisticRegression\n",
    "\n",
    "def plot_confusion_matrix(cm, classes,\n",
    "                          normalize=False,\n",
    "                          title='Confusion matrix',\n",
    "                          cmap=plt.cm.Blues):\n",
    "    \"\"\"\n",
    "    This function prints and plots the confusion matrix.\n",
    "    Normalization can be applied by setting `normalize=True`.\n",
    "    \"\"\"\n",
    "    if normalize:\n",
    "        cm = cm.astype('float') / cm.sum(axis=1)[:, np.newaxis]\n",
    "        print(\"Normalized confusion matrix\")\n",
    "    else:\n",
    "        print('Confusion matrix, without normalization')\n",
    "\n",
    "    print(cm)\n",
    "\n",
    "    plt.imshow(cm, interpolation='nearest', cmap=cmap)\n",
    "    plt.title(title)\n",
    "    plt.colorbar()\n",
    "    tick_marks = np.arange(len(classes))\n",
    "    plt.xticks(tick_marks, classes, rotation=45)\n",
    "    plt.yticks(tick_marks, classes)\n",
    "\n",
    "    fmt = '.2f' if normalize else 'd'\n",
    "    thresh = cm.max() / 2.\n",
    "    for i, j in itertools.product(range(cm.shape[0]), range(cm.shape[1])):\n",
    "        plt.text(j, i, format(cm[i, j], fmt),\n",
    "                 horizontalalignment=\"center\",\n",
    "                 color=\"white\" if cm[i, j] > thresh else \"black\")\n",
    "\n",
    "    plt.tight_layout()\n",
    "    plt.ylabel('True label')\n",
    "    plt.xlabel('Predicted label')\n",
    "\n",
    "# Assuming you have already defined your feature set X and target variable y\n",
    "# and have split them into X_train, X_test, y_train, y_test\n",
    "# Run the following code\n"
   ]
  },
  {
   "cell_type": "code",
   "execution_count": null,
   "id": "1eb85df6-fa2f-4722-8004-c0991643a0a8",
   "metadata": {},
   "outputs": [],
   "source": [
    "import numpy as np\n",
    "from sklearn.preprocessing import LabelEncoder\n",
    "# Assume y_train and y_test are your target variables\n",
    "label_encoder = LabelEncoder()\n",
    "y_train_encoded = label_encoder.fit_transform(y_train\n",
    "                                             )\n",
    "y_test_encoded = label_encoder.transform(y_test)\n",
    "\n",
    "# Train your model with encoded labels\n",
    "model = LogisticRegression(max_iter=1000)\n",
    "model.fit(X_train, y_train_encoded)\n",
    "\n",
    "# Predict using the trained model\n",
    "yhat_encoded = model.predict(X_test)\n",
    "\n",
    "# Generate confusion matrix\n",
    "cm = confusion_matrix(y_test_encoded, yhat_encoded)\n",
    "print(cm)\n",
    "\n",
    "# Plot confusion matrix\n",
    "plot_confusion_matrix(cm, classes=label_encoder.classes_, title='Confusion matrix')\n"
   ]
  },
  {
   "cell_type": "markdown",
   "id": "503d34d7-4668-42ce-9fc2-61110d1b119a",
   "metadata": {},
   "source": [
    "Let's look at first row. The first row is for customers whose actual churn value in the test set is 1. As you can calculate, out of 40 customers, the churn value of 15 of them is 1. Out of these 15 cases, the classifier correctly predicted 6 of them as 1, and 9 of them as 0.\n",
    "\n",
    "This means, for 6 customers, the actual churn value was 1 in test set and classifier also correctly predicted those as 1. However, while the actual label of 9 customers was 1, the classifier predicted those as 0, which is not very good. We can consider it as the error of the model for first row.\n",
    "\n",
    "What about the customers with churn value 0? Lets look at the second row. It looks like there were 25 customers whom their churn value were 0.\n",
    "\n",
    "The classifier correctly predicted 24 of them as 0, and one of them wrongly as 1. So, it has done a good job in predicting the customers with churn value 0. A good thing about the confusion matrix is that it shows the model’s ability to correctly predict or separate the classes. In a specific case of the binary classifier, such as this example, we can interpret these numbers as the count of true positives, false positives, true negatives, and false negatives."
   ]
  },
  {
   "cell_type": "code",
   "execution_count": null,
   "id": "7dd51ce5-e425-48ce-b6cf-e9a34686b267",
   "metadata": {},
   "outputs": [],
   "source": [
    "print (classification_report(y_test, yhat))"
   ]
  },
  {
   "cell_type": "markdown",
   "id": "fd5063c5-489d-4a71-871f-5e3f0fddcb21",
   "metadata": {},
   "source": [
    "Based on the count of each section, we can calculate precision and recall of each label:\n",
    "\n",
    "Precision is a measure of the accuracy provided that a class label has been predicted. It is defined by: precision = TP / (TP + FP)\n",
    "\n",
    "Recall is the true positive rate. It is defined as: Recall =  TP / (TP + FN)\n",
    "\n",
    "So, we can calculate the precision and recall of each class.\n",
    "\n",
    "F1 score: Now we are in the position to calculate the F1 scores for each label based on the precision and recall of that label.\n",
    "\n",
    "The F1 score is the harmonic average of the precision and recall, where an F1 score reaches its best value at 1 (perfect precision and recall) and worst at 0. It is a good way to show that a classifer has a good value for both recall and precision.\n",
    "\n",
    "Finally, we can tell the average accuracy for this classifier is the average of the F1-score for both labels, which is 0.72 in our case."
   ]
  },
  {
   "cell_type": "markdown",
   "id": "a2b63745-3ad7-4fdd-ad79-cb499ff1bc34",
   "metadata": {},
   "source": [
    "log loss\n",
    "Now, let's try log loss for evaluation. In logistic regression, the output can be the probability of customer churn is yes (or equals to 1). This probability is a value between 0 and 1. Log loss( Logarithmic loss) measures the performance of a classifier where the predicted output is a probability value between 0 and 1.\n",
    "\n"
   ]
  },
  {
   "cell_type": "code",
   "execution_count": null,
   "id": "b397bc8d-1c8c-4bb9-83e5-3b0548501273",
   "metadata": {},
   "outputs": [],
   "source": [
    "from sklearn.metrics import log_loss\n",
    "log_loss(y_test, yhat_prob)"
   ]
  },
  {
   "cell_type": "code",
   "execution_count": null,
   "id": "008a89d3-0169-4597-94e4-729df86d6a87",
   "metadata": {},
   "outputs": [],
   "source": [
    "y_test"
   ]
  },
  {
   "cell_type": "markdown",
   "id": "083e5cc3-fc00-40e0-a63b-879f8181ad62",
   "metadata": {},
   "source": [
    "Try to build Logistic Regression model again for the same dataset, but this time, use different __solver__ and __regularization__ values? What is new __logLoss__ value?"
   ]
  },
  {
   "cell_type": "code",
   "execution_count": null,
   "id": "38a4a6a7-d918-4dcd-93c3-b2430a5c2408",
   "metadata": {},
   "outputs": [],
   "source": [
    "LR2 = LogisticRegression(C=0.01, solver='sag').fit(X_train,y_train)\n",
    "yhat_prob2 = LR2.predict_proba(X_test)\n",
    "print (\"LogLoss: : %.2f\" % log_loss(y_test, yhat_prob2))"
   ]
  },
  {
   "cell_type": "markdown",
   "id": "fb80016d-9e5d-45bd-b6bb-1048ecc566e6",
   "metadata": {},
   "source": [
    "### Conclusion [5 Marks]\n",
    "Using a logistic regression model, the study successfully identified key predictors of customer churn in the telecom industry. Factors such as contract type, monthly charges, and tenure significantly influence churn rates. The predictive model achieved an accuracy of over 80%, providing telecom companies with a valuable tool for proactive customer retention strategies. Further research could enhance model performance by incorporating additional data sources and advanced machine learning techniques."
   ]
  },
  {
   "cell_type": "code",
   "execution_count": null,
   "id": "8918d9a3-9f71-4f54-af8c-b7a1fe0f10b2",
   "metadata": {},
   "outputs": [],
   "source": []
  }
 ],
 "metadata": {
  "kernelspec": {
   "display_name": "Python 3 (ipykernel)",
   "language": "python",
   "name": "python3"
  },
  "language_info": {
   "codemirror_mode": {
    "name": "ipython",
    "version": 3
   },
   "file_extension": ".py",
   "mimetype": "text/x-python",
   "name": "python",
   "nbconvert_exporter": "python",
   "pygments_lexer": "ipython3",
   "version": "3.11.7"
  }
 },
 "nbformat": 4,
 "nbformat_minor": 5
}
